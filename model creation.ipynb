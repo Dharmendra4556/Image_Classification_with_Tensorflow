{
 "cells": [
  {
   "cell_type": "code",
   "execution_count": 1,
   "id": "ed3de355",
   "metadata": {},
   "outputs": [],
   "source": [
    "import tensorflow as tf\n",
    "from tensorflow import keras\n",
    "import numpy as np\n",
    "import pandas as pd\n",
    "import matplotlib.pyplot as plt"
   ]
  },
  {
   "cell_type": "code",
   "execution_count": 2,
   "id": "e00ba921",
   "metadata": {},
   "outputs": [],
   "source": [
    "mnist = keras.datasets.fashion_mnist\n",
    "(X_train, y_train), (X_test, y_test) = mnist.load_data()"
   ]
  },
  {
   "cell_type": "code",
   "execution_count": 3,
   "id": "10b3ee1f",
   "metadata": {},
   "outputs": [],
   "source": [
    "X_train = X_train/255.0\n",
    "X_test = X_test/255.0"
   ]
  },
  {
   "cell_type": "code",
   "execution_count": 4,
   "id": "233958c1",
   "metadata": {},
   "outputs": [],
   "source": [
    "from tensorflow.keras import Sequential\n",
    "from tensorflow.keras.layers import Flatten, Dense"
   ]
  },
  {
   "cell_type": "code",
   "execution_count": 5,
   "id": "b6ae1991",
   "metadata": {},
   "outputs": [],
   "source": [
    "model = Sequential()\n",
    "model.add(Flatten(input_shape = (28, 28)))   # I1\n",
    "model.add(Dense(128, activation = 'relu'))   # h1\n",
    "model.add(Dense(10, activation = 'softmax')) #o"
   ]
  },
  {
   "cell_type": "code",
   "execution_count": 6,
   "id": "813d1002",
   "metadata": {},
   "outputs": [],
   "source": [
    "from re import VERBOSE\n",
    "model.compile(optimizer='adam',\n",
    "              loss = 'sparse_categorical_crossentropy',\n",
    "              metrics = ['accuracy'])"
   ]
  },
  {
   "cell_type": "code",
   "execution_count": 7,
   "id": "02d53b1d",
   "metadata": {},
   "outputs": [
    {
     "name": "stdout",
     "output_type": "stream",
     "text": [
      "Epoch 1/30\n",
      "938/938 [==============================] - 6s 4ms/step - loss: 0.5161 - accuracy: 0.8205\n",
      "Epoch 2/30\n",
      "938/938 [==============================] - 3s 3ms/step - loss: 0.3876 - accuracy: 0.8623\n",
      "Epoch 3/30\n",
      "938/938 [==============================] - 4s 4ms/step - loss: 0.3495 - accuracy: 0.8742\n",
      "Epoch 4/30\n",
      "938/938 [==============================] - 4s 4ms/step - loss: 0.3228 - accuracy: 0.8827\n",
      "Epoch 5/30\n",
      "938/938 [==============================] - 4s 4ms/step - loss: 0.3040 - accuracy: 0.8881\n",
      "Epoch 6/30\n",
      "938/938 [==============================] - 3s 3ms/step - loss: 0.2903 - accuracy: 0.8929\n",
      "Epoch 7/30\n",
      "938/938 [==============================] - 3s 3ms/step - loss: 0.2747 - accuracy: 0.8987\n",
      "Epoch 8/30\n",
      "938/938 [==============================] - 3s 4ms/step - loss: 0.2664 - accuracy: 0.9014\n",
      "Epoch 9/30\n",
      "938/938 [==============================] - 3s 4ms/step - loss: 0.2558 - accuracy: 0.9053\n",
      "Epoch 10/30\n",
      "938/938 [==============================] - 3s 3ms/step - loss: 0.2474 - accuracy: 0.9076\n",
      "Epoch 11/30\n",
      "938/938 [==============================] - 3s 3ms/step - loss: 0.2387 - accuracy: 0.9121\n",
      "Epoch 12/30\n",
      "938/938 [==============================] - 3s 3ms/step - loss: 0.2309 - accuracy: 0.9138\n",
      "Epoch 13/30\n",
      "938/938 [==============================] - 3s 3ms/step - loss: 0.2251 - accuracy: 0.9156\n",
      "Epoch 14/30\n",
      "938/938 [==============================] - 3s 3ms/step - loss: 0.2202 - accuracy: 0.9172\n",
      "Epoch 15/30\n",
      "938/938 [==============================] - 3s 3ms/step - loss: 0.2106 - accuracy: 0.9219\n",
      "Epoch 16/30\n",
      "938/938 [==============================] - 3s 3ms/step - loss: 0.2073 - accuracy: 0.9232\n",
      "Epoch 17/30\n",
      "938/938 [==============================] - 3s 3ms/step - loss: 0.2012 - accuracy: 0.9255\n",
      "Epoch 18/30\n",
      "938/938 [==============================] - 4s 4ms/step - loss: 0.1956 - accuracy: 0.9266\n",
      "Epoch 19/30\n",
      "938/938 [==============================] - 3s 3ms/step - loss: 0.1908 - accuracy: 0.9286\n",
      "Epoch 20/30\n",
      "938/938 [==============================] - 4s 4ms/step - loss: 0.1852 - accuracy: 0.9306\n",
      "Epoch 21/30\n",
      "938/938 [==============================] - 3s 3ms/step - loss: 0.1797 - accuracy: 0.9333\n",
      "Epoch 22/30\n",
      "938/938 [==============================] - 3s 3ms/step - loss: 0.1764 - accuracy: 0.9349\n",
      "Epoch 23/30\n",
      "938/938 [==============================] - 3s 3ms/step - loss: 0.1739 - accuracy: 0.9353\n",
      "Epoch 24/30\n",
      "938/938 [==============================] - 4s 4ms/step - loss: 0.1680 - accuracy: 0.9380\n",
      "Epoch 25/30\n",
      "938/938 [==============================] - 4s 4ms/step - loss: 0.1641 - accuracy: 0.9386\n",
      "Epoch 26/30\n",
      "938/938 [==============================] - 3s 3ms/step - loss: 0.1592 - accuracy: 0.9406\n",
      "Epoch 27/30\n",
      "938/938 [==============================] - 3s 3ms/step - loss: 0.1565 - accuracy: 0.9421\n",
      "Epoch 28/30\n",
      "938/938 [==============================] - 3s 3ms/step - loss: 0.1519 - accuracy: 0.9427\n",
      "Epoch 29/30\n",
      "938/938 [==============================] - 3s 3ms/step - loss: 0.1482 - accuracy: 0.9451\n",
      "Epoch 30/30\n",
      "938/938 [==============================] - 3s 3ms/step - loss: 0.1463 - accuracy: 0.9463\n"
     ]
    },
    {
     "data": {
      "text/plain": [
       "<keras.callbacks.History at 0x151eafe4250>"
      ]
     },
     "execution_count": 7,
     "metadata": {},
     "output_type": "execute_result"
    }
   ],
   "source": [
    "model.fit(X_train,\n",
    "          y_train,\n",
    "          epochs = 30,\n",
    "          batch_size=64,\n",
    "          verbose=True)"
   ]
  },
  {
   "cell_type": "code",
   "execution_count": 8,
   "id": "606e9991",
   "metadata": {},
   "outputs": [
    {
     "name": "stdout",
     "output_type": "stream",
     "text": [
      "313/313 [==============================] - 1s 2ms/step - loss: 0.3767 - accuracy: 0.8848\n",
      "0.8848000168800354\n"
     ]
    }
   ],
   "source": [
    "test_loss, test_acc = model.evaluate(X_test, y_test)\n",
    "print(test_acc)"
   ]
  },
  {
   "cell_type": "code",
   "execution_count": 9,
   "id": "fcdb255e",
   "metadata": {},
   "outputs": [
    {
     "name": "stdout",
     "output_type": "stream",
     "text": [
      "Model: \"sequential\"\n",
      "_________________________________________________________________\n",
      " Layer (type)                Output Shape              Param #   \n",
      "=================================================================\n",
      " flatten (Flatten)           (None, 784)               0         \n",
      "                                                                 \n",
      " dense (Dense)               (None, 128)               100480    \n",
      "                                                                 \n",
      " dense_1 (Dense)             (None, 10)                1290      \n",
      "                                                                 \n",
      "=================================================================\n",
      "Total params: 101,770\n",
      "Trainable params: 101,770\n",
      "Non-trainable params: 0\n",
      "_________________________________________________________________\n"
     ]
    }
   ],
   "source": [
    "model.summary()"
   ]
  },
  {
   "cell_type": "code",
   "execution_count": 10,
   "id": "757de55d",
   "metadata": {},
   "outputs": [],
   "source": [
    "model.save_weights('my_model_weights.h5')"
   ]
  },
  {
   "cell_type": "code",
   "execution_count": null,
   "id": "407cbdd6",
   "metadata": {},
   "outputs": [],
   "source": []
  }
 ],
 "metadata": {
  "kernelspec": {
   "display_name": "Python 3 (ipykernel)",
   "language": "python",
   "name": "python3"
  },
  "language_info": {
   "codemirror_mode": {
    "name": "ipython",
    "version": 3
   },
   "file_extension": ".py",
   "mimetype": "text/x-python",
   "name": "python",
   "nbconvert_exporter": "python",
   "pygments_lexer": "ipython3",
   "version": "3.11.4"
  }
 },
 "nbformat": 4,
 "nbformat_minor": 5
}
